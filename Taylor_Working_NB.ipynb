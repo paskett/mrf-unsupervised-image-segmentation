{
 "cells": [
  {
   "cell_type": "markdown",
   "metadata": {},
   "source": [
    "# Image Segmentation"
   ]
  },
  {
   "cell_type": "markdown",
   "metadata": {},
   "source": [
    "The algorithm consists of four steps:\n",
    "\n",
    "### (i) re-segment the image,\n",
    "\n",
    "### (ii) sample noise model parameters,\n",
    "\n",
    "### (iii) sample MRF model parameters,\n",
    "\n",
    "### (iv) sample the number of classes.\n",
    "\n",
    "We will implement each of those sections below."
   ]
  },
  {
   "cell_type": "markdown",
   "metadata": {},
   "source": [
    "If you need to access the paper, go here:\n",
    "https://static.aminer.org/pdf/PDF/000/180/822/unsupervised_image_segmentation_using_markov_random_field_models.pdf"
   ]
  },
  {
   "cell_type": "code",
   "execution_count": 1,
   "metadata": {},
   "outputs": [],
   "source": [
    "import numpy as np\n",
    "import imageio\n",
    "from imageio import imread\n",
    "import matplotlib.pyplot as plt\n",
    "from scipy.stats import beta\n",
    "import time"
   ]
  },
  {
   "cell_type": "code",
   "execution_count": 4,
   "metadata": {},
   "outputs": [
    {
     "data": {
      "image/png": "[encoded data removed]",
      "text/plain": [
       "<Figure size 432x288 with 1 Axes>"
      ]
     },
     "metadata": {
      "needs_background": "light"
     },
     "output_type": "display_data"
    },
    {
     "data": {
      "image/png": "[encoded data removed]",
      "text/plain": [
       "<Figure size 432x288 with 1 Axes>"
      ]
     },
     "metadata": {
      "needs_background": "light"
     },
     "output_type": "display_data"
    },
    {
     "name": "stdout",
     "output_type": "stream",
     "text": [
      "[2.0507899873252646, 1.069292238990764, 2.1165921699372654, 2.138488749708931, 1.0476826927429, 1.040645333409208, 1.8336937262542494, 1.5251989598945317, 2.2062162415785984, 2.247229564915109]\n"
     ]
    },
    {
     "data": {
      "text/plain": [
       "150.05244820182742"
      ]
     },
     "execution_count": 4,
     "metadata": {},
     "output_type": "execute_result"
    }
   ],
   "source": [
    "Y = imread('imgs/checkers.gif') / 255\n",
    "#Y = np.mean(Y, axis = 2)\n",
    "plt.imshow(Y, cmap = 'gray')\n",
    "plt.show()\n",
    "\n",
    "X = Y // (128/255)\n",
    "plt.imshow(X, cmap = 'gray')\n",
    "plt.show()\n",
    "\n",
    "def acceptance_ratio(img_c, old_params, new_params, num_classes):\n",
    "    mu_old, sig_old, T_old = old_params\n",
    "    mu_new, sig_new, T_new = new_params\n",
    "\n",
    "    ratios = []\n",
    "    for s in img_c:\n",
    "        new_likelihood = 1/(sig_new**2*T_new) * np.exp(-1/(2*T_new) * ((s - mu_new)/sig_new)**2)\n",
    "        old_likelihood = 1/(sig_old**2*T_old) * np.exp(-1/(2*T_old) * ((s - mu_old)/sig_old)**2)\n",
    "        ratios.append(new_likelihood/old_likelihood)\n",
    "    print(ratios)\n",
    "    acc_ratio = np.prod(np.array(ratios))\n",
    "    return acc_ratio\n",
    "\n",
    "img_c = Y.reshape(-1)[np.where(X.reshape(-1) == 0)]\n",
    "img_c = np.random.uniform(0, 1, 10)\n",
    "acceptance_ratio(img_c, (.3, .015, 1600), (.3, .01, 1600), 1)"
   ]
  },
  {
   "cell_type": "markdown",
   "metadata": {},
   "source": [
    "## Run the entire algorithm on an image."
   ]
  },
  {
   "cell_type": "code",
   "execution_count": 5,
   "metadata": {},
   "outputs": [],
   "source": [
    "def init_labels(img):\n",
    "    if len(img.shape) == 3:\n",
    "        img = np.mean(img,axis=2)\n",
    "        \n",
    "    return img//64\n",
    "\n",
    "def segment(img, numiter=100, alpha=(1.1, 1.5)):\n",
    "    \"\"\"Runs the entire segmentation algorithm.\n",
    "    \n",
    "    Inputs:\n",
    "    \n",
    "      img (ndarray) : a grayscale image to be segmented.\n",
    "      \n",
    "      numiter (int) : the number of iterations to compute.\n",
    "      \n",
    "      alpha (tuple (int)) : two constants used to calculate \n",
    "              geometric annealing temperature.\n",
    "              \n",
    "    Outputs:\n",
    "      \n",
    "      segmentation (ndarray) : an array of the same shape as \n",
    "            img where each entry is an integer indicating the\n",
    "            class to which that pixel should belong.\n",
    "    \"\"\"\n",
    "    segmentation = img//64\n",
    "    img = img/np.max(img)\n",
    "    noise_params = {'mu': [0,0,0,0], 'sig': [1,1,1,1]}\n",
    "    mrf_params = {'beta0': [1,1,1,1], 'beta1': [1.5,1.5,1.5,1.5]}\n",
    "    num_classes = 4\n",
    "    params = (noise_params, mrf_params, num_classes)\n",
    "    \n",
    "    # Segment the image.\n",
    "    for t in range(numiter):\n",
    "        #print('Beginning iteration')\n",
    "        # Obtain the temperature.\n",
    "        T_t = (1 + alpha[0])**(alpha[1]*(1 - t/numiter))\n",
    "        if t==0:\n",
    "            T_t_old = T_t+1\n",
    "        \n",
    "        #print('Segmenting...')\n",
    "        # Re-segment.\n",
    "        segmentation = re_segment(img, segmentation, T_t, alpha, params)\n",
    "\n",
    "        #print('Sampling noise...')\n",
    "        # Sample noise parameters.\n",
    "        noise_params = sample_noise(img, noise_params['mu'], noise_params['sig'], \n",
    "                                    segmentation, T_t, num_classes, T_t_old\n",
    "                                   ) # returns a dict\n",
    "    \n",
    "        #print('Sampling MRF')\n",
    "        # Sample MRF parameters.\n",
    "        MRF_params = sample_MRF(img, mrf_params['beta0'], X, T_t, num_classes, T_t_old) # returns a dict\n",
    "        #print('Took {}s\\n'.format(np.round(time.time()-start),2))\n",
    "\n",
    "        #print('Sampling number of classes')\n",
    "        # Sample # of classes.\n",
    "        #num_classes = sample_num_classes() # returns an int\n",
    "        \n",
    "        # The parameters consist of noise model params, \n",
    "        #  MRF model params, and the number of classes.\n",
    "        params = (noise_params, MRF_params, num_classes)\n",
    "        T_t_old = T_t\n",
    "        \n",
    "        plt.imshow(segmentation,cmap='gray')\n",
    "        plt.title('Iteration {}'.format(t))\n",
    "        plt.show()\n",
    "    \n",
    "    return segmentation\n",
    "    "
   ]
  },
  {
   "cell_type": "code",
   "execution_count": 6,
   "metadata": {},
   "outputs": [],
   "source": [
    "def V(X, c):\n",
    "    mask = -((X == c) - 1/2) * 2\n",
    "    new = np.zeros((X.shape[0]+2, X.shape[1]+2))\n",
    "    new[0,1:-1] = mask[1,:]\n",
    "    new[-1,1:-1] = mask[-2,:]\n",
    "    new[1:-1,0] = mask[:,1]\n",
    "    new[1:-1,-1] = mask[:,-2]\n",
    "    new[1:-1, 1:-1] = mask\n",
    "    v = new[:-2,1:-1] + new[1:-1, :-2] + new[2:,1:-1] + new[1:-1,2:]\n",
    "    \n",
    "    return v/4\n",
    "\n",
    "\n",
    "def re_segment(img, X, T_t, alpha, params):\n",
    "    \"\"\"\n",
    "    Returns the segmentation array by computing the probability\n",
    "    of each pixel being in each class and returning the argmax\n",
    "    \"\"\"\n",
    "    noise_params, MRF_params, num_classes = params\n",
    "    \n",
    "    probs = np.zeros((num_classes, img.shape[0], img.shape[1]))\n",
    "    \n",
    "    for c in range(num_classes):\n",
    "        # Get the parameters for this class.\n",
    "        mu = noise_params['mu'][c]\n",
    "        sig = noise_params['sig'][c]\n",
    "        beta0 = MRF_params['beta0'][c]\n",
    "        beta1 = MRF_params['beta1'][c]\n",
    "        \n",
    "        # Compute the probabilities for this class\n",
    "        probs[c] = 1/np.sqrt(2*np.pi*T_t*sig**2)*np.exp(\n",
    "                      -1/T_t*(0.5*((img - mu)/sig)**2 \n",
    "                      + (beta0 + beta1*V(X, c)))\n",
    "                   )\n",
    "    \n",
    "    return np.argmax(probs, axis=0)"
   ]
  },
  {
   "cell_type": "markdown",
   "metadata": {},
   "source": [
    "# Noise Sampling"
   ]
  },
  {
   "cell_type": "code",
   "execution_count": 7,
   "metadata": {},
   "outputs": [],
   "source": [
    "def accept(ratio, old_sample, new_sample): \n",
    "    if ratio > 1:\n",
    "        # always accept\n",
    "        output = new_sample\n",
    "    else:\n",
    "        # accept w/ probability ratio\n",
    "        draw = np.random.random()\n",
    "        if draw < ratio:\n",
    "            # accept\n",
    "            output = new_sample\n",
    "        else:\n",
    "            # reject\n",
    "            output = old_sample\n",
    "            \n",
    "    return output\n",
    "\n",
    "def noise_acceptance_ratio(img_c, old_params, new_params, num_classes):\n",
    "    mu_old, sig_old, T_old = old_params\n",
    "    mu_new, sig_new, T_new = new_params\n",
    "\n",
    "    ratios = []\n",
    "    for s in img_c:\n",
    "        new_likelihood = 1/(sig_new**2*T_new) * np.exp(-1/(2*T_new) * ((s - mu_new)/sig_new)**2)\n",
    "        old_likelihood = 1/(sig_old**2*T_old) * np.exp(-1/(2*T_old) * ((s - mu_old)/sig_old)**2)\n",
    "        ratios.append(new_likelihood/old_likelihood)\n",
    "\n",
    "    acc_ratio = np.prod(np.array(ratios))\n",
    "    return acc_ratio\n",
    "\n",
    "def noise_likelihood(img_c, mu, sig, T_t, num_classes):\n",
    "    return 1/(sig*(2*np.pi*sig**2*T_t)**len(img_c))*np.exp(-1/(2*T_t)*np.sum([((y-mu)/sig)**2 for y in img_c ]))\n",
    "\n",
    "def sample_noise(img, mu_0, sig_0, X, T_t, num_classes, T_t_old):\n",
    "    \"\"\"Samples the noise model parameters.\n",
    "    The output is a dictionary with these keys:\n",
    "    {\n",
    "     'mu': an array with the mean for each class\n",
    "     'sig': an array with the st. dev. for each class\n",
    "    }\"\"\"\n",
    "    mus = []\n",
    "    sigs = []\n",
    "    variance = 1\n",
    "    \n",
    "    for c in range(num_classes):\n",
    "        # Get pixels in class\n",
    "        img_c = np.ravel(img[np.where(X==c)])\n",
    "        \n",
    "        # Sample noise parameters\n",
    "        mu_sample = np.random.normal(0,1)\n",
    "        sig_sample = np.random.normal(0,1)\n",
    "        \n",
    "        # Calculate likelihood ratio\n",
    "        ratio = noise_acceptance_ratio(img_c, (mu_0[c],sig_0[c],T_t_old), (mu_sample,sig_sample,T_t), num_classes)\n",
    "        \n",
    "        # Accept or reject new parameters\n",
    "        mu,sig = accept(ratio,(mu_0[c], sig_0[c]), (mu_sample,sig_sample))\n",
    "        \n",
    "        # Save parameters\n",
    "        mus.append(mu)\n",
    "        sigs.append(sig)\n",
    "    \n",
    "    return {'mu':mus, 'sig':sigs}"
   ]
  },
  {
   "cell_type": "markdown",
   "metadata": {},
   "source": [
    "# MRF Sampling"
   ]
  },
  {
   "cell_type": "code",
   "execution_count": 8,
   "metadata": {},
   "outputs": [],
   "source": [
    "def accept(ratio, old_sample, new_sample): \n",
    "    if ratio > 1:\n",
    "        # always accept\n",
    "        output = new_sample\n",
    "    else:\n",
    "        # accept w/ probability ratio\n",
    "        draw = np.random.random()\n",
    "        if draw < ratio:\n",
    "            # accept\n",
    "            output = new_sample\n",
    "        else:\n",
    "            # reject\n",
    "            output = old_sample\n",
    "            \n",
    "    return output\n",
    "\n",
    "def mrf_acceptance_ratio(idx, v_vals, old_params, new_params, num_classes):\n",
    "    beta_old, T_t_old = old_params\n",
    "    beta_new, T_t = new_params\n",
    "    beta_1 = 1.5\n",
    "\n",
    "    ratios = []\n",
    "                                \n",
    "    for s in idx:\n",
    "        new_likelihood_denom = np.sum([np.exp(-1/T_t * (beta_new + beta_1 * v_vals[s])) for i in range(num_classes)])\n",
    "        old_likelihood_denom = np.sum([np.exp(-1/T_t_old * (beta_old + beta_1 * v_vals[s])) for i in range(num_classes)])\n",
    "        \n",
    "        new_likelihood = np.exp(-1/T_t*(beta_old + beta_1 * v_vals[s])) / new_likelihood_denom\n",
    "        old_likelihood = np.exp(-1/T_t_old*(beta_old + beta_1 * v_vals[s])) / old_likelihood_denom\n",
    "        \n",
    "        ratios.append(new_likelihood/old_likelihood)\n",
    "\n",
    "    acc_ratio = np.prod(np.array(ratios))\n",
    "    return acc_ratio\n",
    "\n",
    "def sample_MRF(img, beta_0, X, T_t, num_classes, T_t_old):\n",
    "    \"\"\"Samples the noise model parameters.\n",
    "    The output is a dictionary with these keys:\n",
    "    {\n",
    "     'beta0': an array with the mean for each class\n",
    "     'beta1': an array with the st. dev. for each class\n",
    "    }\n",
    "    \"\"\"\n",
    "    betas = []\n",
    "    beta_1 = 1.5\n",
    "    variance = 1\n",
    "    \n",
    "    for c in range(num_classes):\n",
    "        # Get pixels in class\n",
    "        v_vals = V(X,c).reshape(-1)\n",
    "        c_idx = np.where(X==c)[0]\n",
    "        \n",
    "        # Sample noise parameters\n",
    "        beta_sample = np.random.normal(0,variance)\n",
    "        \n",
    "        # Calculate likelihood ratio\n",
    "        ratio = mrf_acceptance_ratio(c_idx, v_vals, (beta_0[c], T_t_old), (beta_sample,T_t), num_classes)\n",
    "        \n",
    "        # Accept or reject new parameters\n",
    "        beta = accept(ratio,beta_0[c], beta_sample)\n",
    "        \n",
    "        # Save parameters\n",
    "        betas.append(beta)\n",
    "    \n",
    "    return {'beta0':betas,'beta1':np.array([1.5,1.5,1.5,1.5])}"
   ]
  },
  {
   "cell_type": "markdown",
   "metadata": {},
   "source": [
    "# Sample the number of classes"
   ]
  },
  {
   "cell_type": "code",
   "execution_count": 76,
   "metadata": {},
   "outputs": [],
   "source": [
    "class SampleClasses():\n",
    "    def __init__(self, img, seg, mu, sig, beta0, T_t, beta1, num_classes):\n",
    "        self.img = img\n",
    "        self.segmentation = seg\n",
    "        self.mu = mu\n",
    "        self.sig = sig\n",
    "        self.beta0 = beta0\n",
    "        self.T_t = T_t\n",
    "        self.beta1 = beta1\n",
    "        self.num_classes = num_classes\n",
    "    \n",
    "    def split_class_acc_ratio(self, new_seg, u1, u2, u3, new_mu, new_sig, \n",
    "                              new_beta0, new_num_classes):\n",
    "        \"\"\"Get the acceptance ratio for splitting the current class in two.\n",
    "        This is an implementation of equation (16).\n",
    "        \"\"\"\n",
    "        # Compute the four needed values.\n",
    "        posterior_density_ratio = (\n",
    "            self.posterior_eq_5(new_seg, new_num_classes, new_mu, \n",
    "                                new_sig, new_beta0)\n",
    "            / self.posterior_eq_5(self.segmentation, self.num_classes, \n",
    "                                  self.mu, self.sig, self.beta0)\n",
    "        )\n",
    "        beta_probs = (beta.pdf(u1,1,1)*beta.pdf(u2,1,1)*beta.pdf(u3,1,1))\n",
    "        p_segmentation = 1 #?? Thinking the probability based on our chosen segmentation\n",
    "        jac_det = self.jacobian_determinant(sig, u1, u2, u3)\n",
    "\n",
    "        return posterior_density_ratio * jac_det / p_segmentation / beta_probs\n",
    "\n",
    "    def jacobian_determinant(self, sig, u1, u2, u3): \n",
    "        \"\"\"See equation (13).\"\"\"\n",
    "        # FIXME: which sig is the equation referring to?\n",
    "        return self.T_t*sig**2/(u1**2*(1-u1**2)*np.sqrt(u3*(1-u3)))\n",
    "\n",
    "    def posterior_eq_5(self, segmentation, num_classes, mu, sig, beta0):\n",
    "        \"\"\"Implements equation 5, approximating P(X=x, \\psi, k | Y = y)\"\"\"\n",
    "        all_V = np.array([V(segmentation,c) for c in range(num_classes)])\n",
    "        V_C = all_V[segmentation,0,0]\n",
    "        sig_C = sig[segmentation]\n",
    "        mu_C = mu[segmentation]\n",
    "        beta0_C = beta0[segmentation]\n",
    "\n",
    "        first_line = np.prod( 1/(np.sqrt(2*np.pi*sig_C**2))\n",
    "            * np.exp(-0.5*((self.img - mu_C)/sig_C)**2) )\n",
    "\n",
    "        second_line = (np.exp(-np.sum(beta0_C + self.beta1*V_C))\n",
    "            / np.prod(np.sum(beta0[:,np.newaxis,np.newaxis] + self.beta1*all_V, axis=0)))\n",
    "\n",
    "        # On the third line, we note that the priors for mu_c, beta0, \n",
    "        # beta1, and k are uniform, so we may omit them.\n",
    "        # We note that 1/sigma**3 is Jeffrey's prior for normal dist.\n",
    "        third_line = np.prod(1/(sig**3))\n",
    "\n",
    "        return first_line*second_line*third_line\n",
    "\n",
    "    def sample_num_classes(self):\n",
    "        \"\"\"Return an integer with the number of classes.\n",
    "\n",
    "        The algorithm consists of two parts:\n",
    "\n",
    "        (i) For each class, c:\n",
    "            Determine if c should be split into two classes.\n",
    "\n",
    "        (ii) For each pair of classes that should not be split into two:\n",
    "            Determine if those two classes should be combined into one.\n",
    "\n",
    "        Finish by actually performing the splitting and merging of these classes.\n",
    "        \"\"\"\n",
    "\n",
    "        for c in range(self.num_classes):\n",
    "            # Compute u1, u2, u3 for this class.\n",
    "            u1, u2, u3 = beta.rvs(1, 1, size=3)\n",
    "\n",
    "            # Compute new mu, sig, beta0.\n",
    "            new_mu, new_sig, new_beta0 = self.get_new_params(c, u1, u2, u3)\n",
    "            \n",
    "            # FIXME: actually compute the new segmentation.\n",
    "            new_seg = self.segmentation.copy()\n",
    "            \n",
    "            # Decide if c should be split in two.\n",
    "            acc_ratio = self.split_class_acc_ratio(new_seg, u1, u2, u3, new_mu, new_sig, \n",
    "                                    new_beta0, self.num_classes+1)\n",
    "            print('c',c)\n",
    "            print(acc_ratio)\n",
    "            acc_ratio = np.min(acc_ratio, 1)\n",
    "\n",
    "\n",
    "    def get_new_params(self, c, u1, u2, u3):\n",
    "        \"\"\"Takes in the the index of the class to split, the old mu, sigma, beta0 \n",
    "        parameters, and three random variables. These are used to generate new \n",
    "        mu, sigma, and beta0parameters, according to the rules in equation (12).\n",
    "        \"\"\"\n",
    "        # Generate new parameter vectors.\n",
    "        new_mu = new_sig = new_beta0 = np.zeros(len(self.mu)+1)\n",
    "\n",
    "        # Set them equal to the original parameters.\n",
    "        new_mu[:-1] = self.mu\n",
    "        new_sig[:-1] = self.sig\n",
    "        new_beta0[:-1] = self.beta0\n",
    "\n",
    "        # Use equation 12.\n",
    "        new_beta0[c] = self.beta0[c] - self.T_t*np.log(u1)\n",
    "        new_mu[c] = self.mu[c] - u2*self.sig[c]*np.sqrt((1 - u1)/u1)\n",
    "        new_sig[c] = np.sqrt(u3*(1 - u2**2)*self.sig[c]**2/u1)\n",
    "\n",
    "        new_beta0[-1] = self.beta0[c] - self.T_t*np.log(1 - u1)\n",
    "        new_mu[-1] = self.mu[c] + u2*self.sig[c]*np.sqrt(u1/(1 - u1))\n",
    "        new_sig[-1] = np.sqrt((1 - u3)*(1 - u2**2)*self.sig[c]**2/(1 - u1))\n",
    "\n",
    "        return new_mu, new_sig, new_beta0\n",
    "\n",
    "    def split_class(self):\n",
    "        \"\"\"Split a class into two separate classes, updating the\n",
    "        necessary parameters as needed.\n",
    "        \"\"\"\n",
    "        # Step 1 - draw random variables u_1, u_2, u_3 \\in (0,1]\n",
    "        #  from beta distributions.\n",
    "\n",
    "        # Step 2 - \n",
    "        pass\n",
    "\n",
    "    def combine_classes(self):\n",
    "        \"\"\"Combine two classes into a single class, updating the\n",
    "        necessary parameters.\n",
    "        \"\"\"\n",
    "        pass"
   ]
  },
  {
   "cell_type": "code",
   "execution_count": 77,
   "metadata": {},
   "outputs": [],
   "source": [
    "noise_params = {'mu': np.array([0,0,0,0]), 'sig': np.array([1,1,1,1])}\n",
    "alpha = (1.1, 1.5)\n",
    "numiter = 2\n",
    "T_t = lambda t: (1 + alpha[0])**(alpha[1]*(1 - t/numiter))\n",
    "mrf_params = {'beta0': np.array([1,1,1,1]), 'beta1': np.array([1.5,1.5,1.5,1.5])}\n",
    "beta0 = mrf_params['beta0']\n",
    "SC = SampleClasses(\n",
    "    Y, \n",
    "    seg, \n",
    "    noise_params['mu'], \n",
    "    noise_params['sig'], \n",
    "    mrf_params['beta0'], \n",
    "    T_t(2), \n",
    "    mrf_params['beta1'][0], \n",
    "    4\n",
    ")"
   ]
  },
  {
   "cell_type": "code",
   "execution_count": 78,
   "metadata": {},
   "outputs": [
    {
     "name": "stdout",
     "output_type": "stream",
     "text": [
      "c 0\n",
      "[nan nan nan]\n"
     ]
    },
    {
     "name": "stderr",
     "output_type": "stream",
     "text": [
      "//anaconda3/envs/tay/lib/python3.7/site-packages/numpy/core/fromnumeric.py:86: RuntimeWarning: overflow encountered in reduce\n",
      "  return ufunc.reduce(obj, axis, dtype, out, **passkwargs)\n",
      "//anaconda3/envs/tay/lib/python3.7/site-packages/ipykernel_launcher.py:47: RuntimeWarning: invalid value encountered in double_scalars\n"
     ]
    },
    {
     "ename": "AxisError",
     "evalue": "axis 1 is out of bounds for array of dimension 1",
     "output_type": "error",
     "traceback": [
      "\u001b[0;31m---------------------------------------------------------------------------\u001b[0m",
      "\u001b[0;31mAxisError\u001b[0m                                 Traceback (most recent call last)",
      "\u001b[0;32m<ipython-input-78-6505e7777fac>\u001b[0m in \u001b[0;36m<module>\u001b[0;34m\u001b[0m\n\u001b[0;32m----> 1\u001b[0;31m \u001b[0mSC\u001b[0m\u001b[0;34m.\u001b[0m\u001b[0msample_num_classes\u001b[0m\u001b[0;34m(\u001b[0m\u001b[0;34m)\u001b[0m\u001b[0;34m\u001b[0m\u001b[0;34m\u001b[0m\u001b[0m\n\u001b[0m",
      "\u001b[0;32m<ipython-input-76-5648ca99289a>\u001b[0m in \u001b[0;36msample_num_classes\u001b[0;34m(self)\u001b[0m\n\u001b[1;32m     83\u001b[0m             \u001b[0mprint\u001b[0m\u001b[0;34m(\u001b[0m\u001b[0;34m'c'\u001b[0m\u001b[0;34m,\u001b[0m\u001b[0mc\u001b[0m\u001b[0;34m)\u001b[0m\u001b[0;34m\u001b[0m\u001b[0;34m\u001b[0m\u001b[0m\n\u001b[1;32m     84\u001b[0m             \u001b[0mprint\u001b[0m\u001b[0;34m(\u001b[0m\u001b[0macc_ratio\u001b[0m\u001b[0;34m)\u001b[0m\u001b[0;34m\u001b[0m\u001b[0;34m\u001b[0m\u001b[0m\n\u001b[0;32m---> 85\u001b[0;31m             \u001b[0macc_ratio\u001b[0m \u001b[0;34m=\u001b[0m \u001b[0mnp\u001b[0m\u001b[0;34m.\u001b[0m\u001b[0mmin\u001b[0m\u001b[0;34m(\u001b[0m\u001b[0macc_ratio\u001b[0m\u001b[0;34m,\u001b[0m \u001b[0;36m1\u001b[0m\u001b[0;34m)\u001b[0m\u001b[0;34m\u001b[0m\u001b[0;34m\u001b[0m\u001b[0m\n\u001b[0m\u001b[1;32m     86\u001b[0m \u001b[0;34m\u001b[0m\u001b[0m\n\u001b[1;32m     87\u001b[0m \u001b[0;34m\u001b[0m\u001b[0m\n",
      "\u001b[0;32m//anaconda3/envs/tay/lib/python3.7/site-packages/numpy/core/fromnumeric.py\u001b[0m in \u001b[0;36mamin\u001b[0;34m(a, axis, out, keepdims, initial)\u001b[0m\n\u001b[1;32m   2616\u001b[0m     \"\"\"\n\u001b[1;32m   2617\u001b[0m     return _wrapreduction(a, np.minimum, 'min', axis, None, out, keepdims=keepdims,\n\u001b[0;32m-> 2618\u001b[0;31m                           initial=initial)\n\u001b[0m\u001b[1;32m   2619\u001b[0m \u001b[0;34m\u001b[0m\u001b[0m\n\u001b[1;32m   2620\u001b[0m \u001b[0;34m\u001b[0m\u001b[0m\n",
      "\u001b[0;32m//anaconda3/envs/tay/lib/python3.7/site-packages/numpy/core/fromnumeric.py\u001b[0m in \u001b[0;36m_wrapreduction\u001b[0;34m(obj, ufunc, method, axis, dtype, out, **kwargs)\u001b[0m\n\u001b[1;32m     84\u001b[0m                 \u001b[0;32mreturn\u001b[0m \u001b[0mreduction\u001b[0m\u001b[0;34m(\u001b[0m\u001b[0maxis\u001b[0m\u001b[0;34m=\u001b[0m\u001b[0maxis\u001b[0m\u001b[0;34m,\u001b[0m \u001b[0mout\u001b[0m\u001b[0;34m=\u001b[0m\u001b[0mout\u001b[0m\u001b[0;34m,\u001b[0m \u001b[0;34m**\u001b[0m\u001b[0mpasskwargs\u001b[0m\u001b[0;34m)\u001b[0m\u001b[0;34m\u001b[0m\u001b[0;34m\u001b[0m\u001b[0m\n\u001b[1;32m     85\u001b[0m \u001b[0;34m\u001b[0m\u001b[0m\n\u001b[0;32m---> 86\u001b[0;31m     \u001b[0;32mreturn\u001b[0m \u001b[0mufunc\u001b[0m\u001b[0;34m.\u001b[0m\u001b[0mreduce\u001b[0m\u001b[0;34m(\u001b[0m\u001b[0mobj\u001b[0m\u001b[0;34m,\u001b[0m \u001b[0maxis\u001b[0m\u001b[0;34m,\u001b[0m \u001b[0mdtype\u001b[0m\u001b[0;34m,\u001b[0m \u001b[0mout\u001b[0m\u001b[0;34m,\u001b[0m \u001b[0;34m**\u001b[0m\u001b[0mpasskwargs\u001b[0m\u001b[0;34m)\u001b[0m\u001b[0;34m\u001b[0m\u001b[0;34m\u001b[0m\u001b[0m\n\u001b[0m\u001b[1;32m     87\u001b[0m \u001b[0;34m\u001b[0m\u001b[0m\n\u001b[1;32m     88\u001b[0m \u001b[0;34m\u001b[0m\u001b[0m\n",
      "\u001b[0;31mAxisError\u001b[0m: axis 1 is out of bounds for array of dimension 1"
     ]
    }
   ],
   "source": [
    "SC.sample_num_classes()"
   ]
  },
  {
   "cell_type": "code",
   "execution_count": 49,
   "metadata": {},
   "outputs": [
    {
     "name": "stderr",
     "output_type": "stream",
     "text": [
      "//anaconda3/envs/tay/lib/python3.7/site-packages/numpy/core/fromnumeric.py:86: RuntimeWarning: overflow encountered in reduce\n",
      "  return ufunc.reduce(obj, axis, dtype, out, **passkwargs)\n"
     ]
    },
    {
     "data": {
      "image/png": "[encoded data removed]",
      "text/plain": [
       "<Figure size 432x288 with 1 Axes>"
      ]
     },
     "metadata": {
      "needs_background": "light"
     },
     "output_type": "display_data"
    },
    {
     "data": {
      "image/png": "[encoded data removed]",
      "text/plain": [
       "<Figure size 432x288 with 1 Axes>"
      ]
     },
     "metadata": {
      "needs_background": "light"
     },
     "output_type": "display_data"
    }
   ],
   "source": [
    "seg = segment(Y, numiter=2)"
   ]
  },
  {
   "cell_type": "code",
   "execution_count": 14,
   "metadata": {},
   "outputs": [],
   "source": [
    "arr = np.array([[0, 1, 2], [2, 0, 0], [1, 0, 1]])\n",
    "arr2 = np.array([[[0.5,0.5,0.5], [0.5,0.5,0.5], [0.5,0.5,0.5]], [[1,1,1],[1,1,1],[1,1,1]], [[2,2,2],[2,2,2],[2,2,2]]])"
   ]
  },
  {
   "cell_type": "code",
   "execution_count": 15,
   "metadata": {},
   "outputs": [
    {
     "data": {
      "text/plain": [
       "array([[0.5, 1. , 2. ],\n",
       "       [2. , 0.5, 0.5],\n",
       "       [1. , 0.5, 1. ]])"
      ]
     },
     "execution_count": 15,
     "metadata": {},
     "output_type": "execute_result"
    }
   ],
   "source": [
    "arr2[arr,0,0]"
   ]
  },
  {
   "cell_type": "code",
   "execution_count": 19,
   "metadata": {},
   "outputs": [
    {
     "data": {
      "text/plain": [
       "array([[2.  , 3.  , 0.25],\n",
       "       [0.25, 2.  , 2.  ],\n",
       "       [3.  , 2.  , 3.  ]])"
      ]
     },
     "execution_count": 19,
     "metadata": {},
     "output_type": "execute_result"
    }
   ],
   "source": [
    "sig = np.array([2, 3, .25])\n",
    "sig[arr]"
   ]
  },
  {
   "cell_type": "code",
   "execution_count": null,
   "metadata": {},
   "outputs": [],
   "source": [
    "np.random.normal(0, 1)"
   ]
  },
  {
   "cell_type": "code",
   "execution_count": null,
   "metadata": {},
   "outputs": [],
   "source": [
    "a = (np.random.randn(16).reshape((4,4))*10).astype(int)\n",
    "b = (np.random.randn(16).reshape((4,4))*10).astype(int)"
   ]
  },
  {
   "cell_type": "code",
   "execution_count": null,
   "metadata": {},
   "outputs": [],
   "source": [
    "a[b<0]"
   ]
  },
  {
   "cell_type": "code",
   "execution_count": null,
   "metadata": {},
   "outputs": [],
   "source": [
    "numiter = 100\n",
    "alpha = (1.1, 10.0)\n",
    "T_t = lambda t: (1 + alpha[0])**(alpha[1]*(1 - t/numiter))"
   ]
  },
  {
   "cell_type": "code",
   "execution_count": null,
   "metadata": {},
   "outputs": [],
   "source": [
    "T_t(0) / T_t(1)"
   ]
  },
  {
   "cell_type": "code",
   "execution_count": 13,
   "metadata": {},
   "outputs": [],
   "source": [
    "def acceptance_ratio(img_c, old_params, new_params):\n",
    "    mu_old, sig_old, T_old = old_params\n",
    "    mu_new, sig_new, T_new = new_params\n",
    "    \n",
    "    ratios = ((sig_old/sig_new)**3\n",
    "        * (T_old/T_new)\n",
    "        * np.exp(\n",
    "            1/(2*T_old)*((img_c - mu_old)/sig_old)**2\n",
    "            - 1/(2*T_new)*((img_c - mu_new)/sig_new)**2\n",
    "        )\n",
    "    )\n",
    "\n",
    "    acc_ratio = np.prod(ratios)\n",
    "    return ratios, acc_ratio"
   ]
  },
  {
   "cell_type": "code",
   "execution_count": null,
   "metadata": {},
   "outputs": [],
   "source": [
    "img = imageio.imread('imgs/checkers.gif')\n",
    "plt.imshow(img, cmap='gray')\n",
    "\n",
    "# Rescale the image\n",
    "img = img / np.max(img)"
   ]
  },
  {
   "cell_type": "code",
   "execution_count": null,
   "metadata": {},
   "outputs": [],
   "source": [
    "ratios, acc_ratio = acceptance_ratio(np.ravel(img[200:235]), (0.5, 0.3, T_t(0)), (0.5, 0.05, T_t(1)))\n",
    "acc_ratio"
   ]
  },
  {
   "cell_type": "code",
   "execution_count": null,
   "metadata": {},
   "outputs": [],
   "source": [
    "ratios"
   ]
  },
  {
   "cell_type": "code",
   "execution_count": null,
   "metadata": {},
   "outputs": [],
   "source": []
  }
 ],
 "metadata": {
  "kernelspec": {
   "display_name": "Python 3",
   "language": "python",
   "name": "python3"
  },
  "language_info": {
   "codemirror_mode": {
    "name": "ipython",
    "version": 3
   },
   "file_extension": ".py",
   "mimetype": "text/x-python",
   "name": "python",
   "nbconvert_exporter": "python",
   "pygments_lexer": "ipython3",
   "version": "3.7.4"
  }
 },
 "nbformat": 4,
 "nbformat_minor": 2
}
