{
 "cells": [
  {
   "cell_type": "markdown",
   "metadata": {},
   "source": [
    "# Image Segmentation"
   ]
  },
  {
   "cell_type": "markdown",
   "metadata": {},
   "source": [
    "The algorithm consists of four steps:\n",
    "\n",
    "### (i) re-segment the image,\n",
    "\n",
    "### (ii) sample noise model parameters,\n",
    "\n",
    "### (iii) sample MRF model parameters,\n",
    "\n",
    "### (iv) sample the number of classes.\n",
    "\n",
    "We will implement each of those sections below."
   ]
  },
  {
   "cell_type": "markdown",
   "metadata": {},
   "source": [
    "If you need to access the paper, go here:\n",
    "https://static.aminer.org/pdf/PDF/000/180/822/unsupervised_image_segmentation_using_markov_random_field_models.pdf"
   ]
  },
  {
   "cell_type": "code",
   "execution_count": 2,
   "metadata": {},
   "outputs": [],
   "source": [
    "import numpy as np"
   ]
  },
  {
   "cell_type": "markdown",
   "metadata": {},
   "source": [
    "## Run the entire algorithm on an image."
   ]
  },
  {
   "cell_type": "code",
   "execution_count": 8,
   "metadata": {},
   "outputs": [],
   "source": [
    "def segment(img, numiter=100, alpha=(1.1, 10.0)):\n",
    "    \"\"\"Runs the entire segmentation algorithm.\n",
    "    \n",
    "    Inputs:\n",
    "    \n",
    "      img (ndarray) : a grayscale image to be segmented.\n",
    "      \n",
    "      numiter (int) : the number of iterations to compute.\n",
    "      \n",
    "      alpha (tuple (int)) : two constants used to calculate \n",
    "              geometric annealing temperature.\n",
    "              \n",
    "    Outputs:\n",
    "      \n",
    "      segmentation (ndarray) : an array of the same shape as \n",
    "            img where each entry is an integer indicating the\n",
    "            class to which that pixel should belong.\n",
    "    \"\"\"\n",
    "    \n",
    "    # Initialize parameters.\n",
    "    params = (None, None, None)\n",
    "    \n",
    "    # Segment the image.\n",
    "    for t in range(numiter):\n",
    "        # Obtain the temperature.\n",
    "        T_t = (1 + alpha[0])**(alpha[1]*(1 - t/numiter))\n",
    "        \n",
    "        # Re-segment.\n",
    "        segmentation = re_segment(img, t, alpha, params)\n",
    "\n",
    "        # Sample noise parameters.\n",
    "        noise_params = sample_noise() # returns a dict\n",
    "\n",
    "        # Sample MRF parameters.\n",
    "        MRF_params = sample_MRF() # returns a dict\n",
    "\n",
    "        # Sample # of classes.\n",
    "        num_classes = sample_num_classes() # returns an int\n",
    "        \n",
    "        # The parameters consist of noise model params, \n",
    "        #  MRF model params, and the number of classes.\n",
    "        params = (noise_parames, MRF_params, num_classes)\n",
    "    \n",
    "    return segmentation\n",
    "    "
   ]
  },
  {
   "cell_type": "code",
   "execution_count": 9,
   "metadata": {},
   "outputs": [],
   "source": [
    "\n",
    "def re_segment(img, t, alpha, params):\n",
    "    \"\"\"\n",
    "    Returns the segmentation array by computing the probability\n",
    "    of each pixel being in each class and returning the argmax\n",
    "    \"\"\"\n",
    "    noise_params, MRF_params, num_classes = params\n",
    "    \n",
    "    # Obtain the temperature.\n",
    "    T_t = (1 + alpha[0])**(alpha[1]*(1 - t/numiter))\n",
    "    \n",
    "    probs = np.zeros((num_classes, img.shape[0], img.shape[1]))\n",
    "    \n",
    "    for c in range(num_classes):\n",
    "        # Get the parameters for this class.\n",
    "        mu = noise_params['mu'][c]\n",
    "        sig = noise_params['sig'][c]\n",
    "        beta0 = MRF_params['beta0'][c]\n",
    "        beta1 = MRF_params['beta1'][c]\n",
    "        \n",
    "        # Compute the probabilities for this class\n",
    "        probs[idx] = 1/np.sqrt(2*np.pi*T_t*sig**2)*np.exp(\n",
    "            -1/T_t*(0.5*((img - mu)/sig)**2 \n",
    "             + (beta0 + beta1*V(c, eta))) # FIXME: what's eta?\n",
    "        ) # FIXME: define the function V()\n",
    "    \n",
    "    \n",
    "    return np.argmax(probs, axis=0)"
   ]
  },
  {
   "cell_type": "code",
   "execution_count": 4,
   "metadata": {},
   "outputs": [],
   "source": [
    "def noise_likelihood(img_c, mu, sig, T, n_c):    \n",
    "    return 1/(sig*(2*np.pi*sig**2*T)**n_c)*np.exp(-1/(2*T)*[((y-mu)/sig)**2 for y in img_c ])\n",
    "\n",
    "def sample_noise(img, mu_0, sig_0, Y, T, n_c):\n",
    "    \"\"\"Samples the noise model parameters.\n",
    "    The output is a dictionary with these keys:\n",
    "    {\n",
    "     'mu': an array with the mean for each class\n",
    "     'sig': an array with the st. dev. for each class\n",
    "    }\"\"\"\n",
    "    means = []\n",
    "    sigs = []\n",
    "    for c in num_classes:\n",
    "        img_c = np.ravel(img[np.where(Y==c)])\n",
    "        mu = acceptance(img_c, mu_0, sig_0, T, n_c)\n",
    "        means.append(mu)\n",
    "           \n",
    "        sig = acceptance(img_c, mu, sig_0, T, n_c)\n",
    "        sigs.append(sig)\n",
    "    \n",
    "    return mus, sigs"
   ]
  },
  {
   "cell_type": "code",
   "execution_count": 5,
   "metadata": {},
   "outputs": [],
   "source": [
    "def sample_MRF():\n",
    "    \"\"\"Samples the MRF model parameters.\n",
    "    The output is a dictionary with these keys:\n",
    "    {\n",
    "     'beta0': an array with beta0 for each class \n",
    "     'beta1': an array with beta1 for each class\n",
    "    }\n",
    "    \"\"\"\n",
    "    pass"
   ]
  },
  {
   "cell_type": "code",
   "execution_count": 6,
   "metadata": {},
   "outputs": [],
   "source": [
    "def sample_num_classes():\n",
    "    \"\"\"Return an integer with the number of classes.\"\"\"\n",
    "    pass"
   ]
  },
  {
   "cell_type": "code",
   "execution_count": null,
   "metadata": {},
   "outputs": [],
   "source": [
    "def acceptance(old_sample, variance, likelihood_function): \n",
    "    new_sample = np.random.normal(0, variance)\n",
    "    \n",
    "    old_likelihood = likelihood_function(old_sample)\n",
    "    new_likelihood = likelihood_function(new_sample)\n",
    "    \n",
    "    ratio = new_likelihood/old_likelihood\n",
    "    \n",
    "    if ratio > 1:\n",
    "        # always accept\n",
    "        output = new_sample\n",
    "    else:\n",
    "        # accept w/ probability ratio\n",
    "        draw = np.random.random()\n",
    "        if draw < ratio:\n",
    "            # accept\n",
    "            output = new_sample\n",
    "        else:\n",
    "            # reject\n",
    "            output = old_sample\n",
    "            \n",
    "    return output"
   ]
  },
  {
   "cell_type": "code",
   "execution_count": 5,
   "metadata": {},
   "outputs": [
    {
     "data": {
      "text/plain": [
       "0.48480940367846465"
      ]
     },
     "execution_count": 5,
     "metadata": {},
     "output_type": "execute_result"
    }
   ],
   "source": [
    "np.random.normal(0, 1)"
   ]
  },
  {
   "cell_type": "code",
   "execution_count": 14,
   "metadata": {},
   "outputs": [],
   "source": [
    "a = (np.random.randn(16).reshape((4,4))*10).astype(int)\n",
    "b = (np.random.randn(16).reshape((4,4))*10).astype(int)"
   ]
  },
  {
   "cell_type": "code",
   "execution_count": 16,
   "metadata": {},
   "outputs": [
    {
     "data": {
      "text/plain": [
       "array([  5,  10,   2,  16,  -6,  -2,   9, -17])"
      ]
     },
     "execution_count": 16,
     "metadata": {},
     "output_type": "execute_result"
    }
   ],
   "source": [
    "a[b<0]"
   ]
  },
  {
   "cell_type": "code",
   "execution_count": null,
   "metadata": {},
   "outputs": [],
   "source": []
  }
 ],
 "metadata": {
  "kernelspec": {
   "display_name": "Python 3",
   "language": "python",
   "name": "python3"
  },
  "language_info": {
   "codemirror_mode": {
    "name": "ipython",
    "version": 3
   },
   "file_extension": ".py",
   "mimetype": "text/x-python",
   "name": "python",
   "nbconvert_exporter": "python",
   "pygments_lexer": "ipython3",
   "version": "3.7.6"
  }
 },
 "nbformat": 4,
 "nbformat_minor": 2
}
